{
 "cells": [
  {
   "cell_type": "markdown",
   "metadata": {
    "id": "K8Ogzbks11Cd"
   },
   "source": [
    "\n",
    "**Part 1: Setup & Model Loading**"
   ]
  },
  {
   "cell_type": "code",
   "execution_count": 61,
   "metadata": {
    "colab": {
     "base_uri": "https://localhost:8080/",
     "height": 434,
     "referenced_widgets": [
      "46954930c11c4d6c8f999e00b67be015",
      "19656725dac24ba3bbe8c553d3be8625",
      "7909e6ddeed44cdfb0293bcf695e834a",
      "a2fc5a8cf05d456bb4ea662d1a568adf",
      "1dd44c7c46bd4992ad423e4eb45c354d",
      "e3ea0b48e75b4160978a42fc75a7ff48",
      "4ad0e48e434f4722a036a5843eac0f27",
      "7a80aae5b423471bb47df0d44660d710",
      "35b104ba23c344ef896d5f5e2f623c3b",
      "c7ef487033cd46b599398b2fa160b27e",
      "8279105a21214755a459340acd00d89a"
     ]
    },
    "id": "OdbZia1914mU",
    "outputId": "a631d00b-024d-40c1-9c93-add04264b1c9"
   },
   "outputs": [
    {
     "name": "stdout",
     "output_type": "stream",
     "text": [
      "Requirement already satisfied: transformers in /usr/local/lib/python3.11/dist-packages (4.51.1)\n",
      "Requirement already satisfied: filelock in /usr/local/lib/python3.11/dist-packages (from transformers) (3.18.0)\n",
      "Requirement already satisfied: huggingface-hub<1.0,>=0.30.0 in /usr/local/lib/python3.11/dist-packages (from transformers) (0.30.2)\n",
      "Requirement already satisfied: numpy>=1.17 in /usr/local/lib/python3.11/dist-packages (from transformers) (2.0.2)\n",
      "Requirement already satisfied: packaging>=20.0 in /usr/local/lib/python3.11/dist-packages (from transformers) (24.2)\n",
      "Requirement already satisfied: pyyaml>=5.1 in /usr/local/lib/python3.11/dist-packages (from transformers) (6.0.2)\n",
      "Requirement already satisfied: regex!=2019.12.17 in /usr/local/lib/python3.11/dist-packages (from transformers) (2024.11.6)\n",
      "Requirement already satisfied: requests in /usr/local/lib/python3.11/dist-packages (from transformers) (2.32.3)\n",
      "Requirement already satisfied: tokenizers<0.22,>=0.21 in /usr/local/lib/python3.11/dist-packages (from transformers) (0.21.1)\n",
      "Requirement already satisfied: safetensors>=0.4.3 in /usr/local/lib/python3.11/dist-packages (from transformers) (0.5.3)\n",
      "Requirement already satisfied: tqdm>=4.27 in /usr/local/lib/python3.11/dist-packages (from transformers) (4.67.1)\n",
      "Requirement already satisfied: fsspec>=2023.5.0 in /usr/local/lib/python3.11/dist-packages (from huggingface-hub<1.0,>=0.30.0->transformers) (2025.3.2)\n",
      "Requirement already satisfied: typing-extensions>=3.7.4.3 in /usr/local/lib/python3.11/dist-packages (from huggingface-hub<1.0,>=0.30.0->transformers) (4.13.1)\n",
      "Requirement already satisfied: charset-normalizer<4,>=2 in /usr/local/lib/python3.11/dist-packages (from requests->transformers) (3.4.1)\n",
      "Requirement already satisfied: idna<4,>=2.5 in /usr/local/lib/python3.11/dist-packages (from requests->transformers) (3.10)\n",
      "Requirement already satisfied: urllib3<3,>=1.21.1 in /usr/local/lib/python3.11/dist-packages (from requests->transformers) (2.3.0)\n",
      "Requirement already satisfied: certifi>=2017.4.17 in /usr/local/lib/python3.11/dist-packages (from requests->transformers) (2025.1.31)\n"
     ]
    },
    {
     "name": "stderr",
     "output_type": "stream",
     "text": [
      "Xet Storage is enabled for this repo, but the 'hf_xet' package is not installed. Falling back to regular HTTP download. For better performance, install the package with: `pip install huggingface_hub[hf_xet]` or `pip install hf_xet`\n",
      "WARNING:huggingface_hub.file_download:Xet Storage is enabled for this repo, but the 'hf_xet' package is not installed. Falling back to regular HTTP download. For better performance, install the package with: `pip install huggingface_hub[hf_xet]` or `pip install hf_xet`\n"
     ]
    },
    {
     "data": {
      "application/vnd.jupyter.widget-view+json": {
       "model_id": "46954930c11c4d6c8f999e00b67be015",
       "version_major": 2,
       "version_minor": 0
      },
      "text/plain": [
       "model.safetensors:   0%|          | 0.00/1.52G [00:00<?, ?B/s]"
      ]
     },
     "metadata": {},
     "output_type": "display_data"
    },
    {
     "name": "stdout",
     "output_type": "stream",
     "text": [
      " GPT-2 model loaded and ready.\n"
     ]
    }
   ],
   "source": [
    "#  Install HuggingFace Transformers\n",
    "!pip install transformers\n",
    "\n",
    "#  Import libraries\n",
    "from transformers import GPT2LMHeadModel, GPT2Tokenizer\n",
    "import torch\n",
    "\n",
    "#  Load GPT-2 model and tokenizer\n",
    "model_name = \"gpt2-medium\"\n",
    "\n",
    "tokenizer = GPT2Tokenizer.from_pretrained(model_name)\n",
    "model = GPT2LMHeadModel.from_pretrained(model_name)\n",
    "model.eval()\n",
    "\n",
    "print(\" GPT-2 model loaded and ready.\")\n"
   ]
  },
  {
   "cell_type": "code",
   "execution_count": 62,
   "metadata": {
    "colab": {
     "base_uri": "https://localhost:8080/"
    },
    "id": "Wf6zwtd8DCEG",
    "outputId": "c7c96f78-9d7e-4cbd-924a-d8284bef60f1"
   },
   "outputs": [
    {
     "name": "stdout",
     "output_type": "stream",
     "text": [
      "Requirement already satisfied: dash in /usr/local/lib/python3.11/dist-packages (3.0.3)\n",
      "Requirement already satisfied: Flask<3.1,>=1.0.4 in /usr/local/lib/python3.11/dist-packages (from dash) (3.0.3)\n",
      "Requirement already satisfied: Werkzeug<3.1 in /usr/local/lib/python3.11/dist-packages (from dash) (3.0.6)\n",
      "Requirement already satisfied: plotly>=5.0.0 in /usr/local/lib/python3.11/dist-packages (from dash) (5.24.1)\n",
      "Requirement already satisfied: importlib-metadata in /usr/local/lib/python3.11/dist-packages (from dash) (8.6.1)\n",
      "Requirement already satisfied: typing-extensions>=4.1.1 in /usr/local/lib/python3.11/dist-packages (from dash) (4.13.1)\n",
      "Requirement already satisfied: requests in /usr/local/lib/python3.11/dist-packages (from dash) (2.32.3)\n",
      "Requirement already satisfied: retrying in /usr/local/lib/python3.11/dist-packages (from dash) (1.3.4)\n",
      "Requirement already satisfied: nest-asyncio in /usr/local/lib/python3.11/dist-packages (from dash) (1.6.0)\n",
      "Requirement already satisfied: setuptools in /usr/local/lib/python3.11/dist-packages (from dash) (75.2.0)\n",
      "Requirement already satisfied: Jinja2>=3.1.2 in /usr/local/lib/python3.11/dist-packages (from Flask<3.1,>=1.0.4->dash) (3.1.6)\n",
      "Requirement already satisfied: itsdangerous>=2.1.2 in /usr/local/lib/python3.11/dist-packages (from Flask<3.1,>=1.0.4->dash) (2.2.0)\n",
      "Requirement already satisfied: click>=8.1.3 in /usr/local/lib/python3.11/dist-packages (from Flask<3.1,>=1.0.4->dash) (8.1.8)\n",
      "Requirement already satisfied: blinker>=1.6.2 in /usr/local/lib/python3.11/dist-packages (from Flask<3.1,>=1.0.4->dash) (1.9.0)\n",
      "Requirement already satisfied: tenacity>=6.2.0 in /usr/local/lib/python3.11/dist-packages (from plotly>=5.0.0->dash) (9.1.2)\n",
      "Requirement already satisfied: packaging in /usr/local/lib/python3.11/dist-packages (from plotly>=5.0.0->dash) (24.2)\n",
      "Requirement already satisfied: MarkupSafe>=2.1.1 in /usr/local/lib/python3.11/dist-packages (from Werkzeug<3.1->dash) (3.0.2)\n",
      "Requirement already satisfied: zipp>=3.20 in /usr/local/lib/python3.11/dist-packages (from importlib-metadata->dash) (3.21.0)\n",
      "Requirement already satisfied: charset-normalizer<4,>=2 in /usr/local/lib/python3.11/dist-packages (from requests->dash) (3.4.1)\n",
      "Requirement already satisfied: idna<4,>=2.5 in /usr/local/lib/python3.11/dist-packages (from requests->dash) (3.10)\n",
      "Requirement already satisfied: urllib3<3,>=1.21.1 in /usr/local/lib/python3.11/dist-packages (from requests->dash) (2.3.0)\n",
      "Requirement already satisfied: certifi>=2017.4.17 in /usr/local/lib/python3.11/dist-packages (from requests->dash) (2025.1.31)\n",
      "Requirement already satisfied: six>=1.7.0 in /usr/local/lib/python3.11/dist-packages (from retrying->dash) (1.17.0)\n"
     ]
    }
   ],
   "source": [
    "!pip install dash\n",
    "\n"
   ]
  },
  {
   "cell_type": "markdown",
   "metadata": {
    "id": "2sSefZLb2Da9"
   },
   "source": [
    "** Part 2: Prompt + Script Generator Function**"
   ]
  },
  {
   "cell_type": "code",
   "execution_count": 63,
   "metadata": {
    "id": "tOCYjAsO2REV"
   },
   "outputs": [],
   "source": [
    "def generate_script(prompt, max_length=300, temperature=0.8):\n",
    "    input_ids = tokenizer.encode(prompt, return_tensors=\"pt\")\n",
    "    with torch.no_grad():\n",
    "        output = model.generate(\n",
    "            input_ids,\n",
    "            max_length=max_length,\n",
    "            num_return_sequences=1,\n",
    "            temperature=temperature,\n",
    "            no_repeat_ngram_size=2,\n",
    "            top_p=0.95,\n",
    "            do_sample=True,\n",
    "            pad_token_id=tokenizer.eos_token_id\n",
    "        )\n",
    "    return tokenizer.decode(output[0], skip_special_tokens=True)\n"
   ]
  },
  {
   "cell_type": "markdown",
   "metadata": {
    "id": "rmCC5aQw2Y5l"
   },
   "source": [
    "**Part 3: Test the Script Generator**"
   ]
  },
  {
   "cell_type": "code",
   "execution_count": 64,
   "metadata": {
    "colab": {
     "base_uri": "https://localhost:8080/"
    },
    "id": "5ENfKXnd2VG9",
    "outputId": "f8182306-82e8-47af-a15e-5c4bae2c4d0f"
   },
   "outputs": [
    {
     "name": "stdout",
     "output_type": "stream",
     "text": [
      "Generated Script:\n",
      "\n",
      "INT. ABANDONED HOSPITAL - NIGHT\n",
      "A group of teenagers enters the dark hallway. Suddenly, they hear a whisper echoing through the walls... \"FUCK YOU!!\"\n",
      "THE BOOGIE SUSPECT - THAT NIGHT He is lying on the floor with his back to the door. There is nothing else he can do. He does not even feel the cold. The room is completely dark.\n",
      "The girl next to him hears the whispered whisper and stops in her tracks. She turns around to see a small figure standing on a bed. This tiny figure looks exactly the same as the one he saw earlier. \"It's your mother, my baby.\" She points at the tiny person.  \"We are the only ones left here.\"\n",
      "\"That's not true. I have a brother that has left me.\" The little boy looks at her strangely. \"...And I got a friend with me who is probably hiding somewhere.\" He looks around, looking for something. Something that will help him get through his darkest hour. As she looks down at him, she can't help but shake with fear. What is happening to her? \n",
      "After several moments of silence, the girl looks up at \"that little man\". She looks closer, hoping that her fear won't show. Then, suddenly, \"Oh... I see... He's with us now. That is why you don't see him.\"  She stares at it, wondering what it is. It's as if someone has been watching over her. But then, something stops her in mid-sentence. A small, orange ball of light is in the middle of her room. At first, it seems to be light, but quickly it fades to a bright orange. Before she knows what is going on, her vision is obscured from the light. Now, instead of the orange glow of an orange lightbulb, there is a pulsing orange circle of energy that slowly grows in size. Finally, at a constant rate, what looked like the size of a pinball machine slowly begins to fill her entire room... a glowing orange sphere of pure energy, pulsating, bright, and pulsate. An incredibly eerie feeling permeates her body as she starts to feel something... warm and familiar in that moment. Her heart begins pounding again. Slowly, a huge, black ball, about the diameter of five football fields, appears in front of \"her\".\n",
      "She stares up, as it\n"
     ]
    }
   ],
   "source": [
    "def generate_script(prompt, max_length=500, temperature=0.8):\n",
    "    input_ids = tokenizer.encode(prompt, return_tensors=\"pt\")\n",
    "    attention_mask = torch.ones_like(input_ids)\n",
    "\n",
    "    with torch.no_grad():\n",
    "        output = model.generate(\n",
    "            input_ids=input_ids,\n",
    "            attention_mask=attention_mask,\n",
    "            max_length=max_length,\n",
    "            num_return_sequences=1,\n",
    "            temperature=temperature,\n",
    "            no_repeat_ngram_size=2,\n",
    "            top_p=0.95,\n",
    "            do_sample=True,\n",
    "            pad_token_id=tokenizer.eos_token_id\n",
    "        )\n",
    "    return tokenizer.decode(output[0], skip_special_tokens=True)\n",
    "# Generate script\n",
    "script_output = generate_script(genre_prompt)\n",
    "\n",
    "# Print the result\n",
    "print(\"Generated Script:\\n\")\n",
    "print(script_output)\n"
   ]
  },
  {
   "cell_type": "markdown",
   "metadata": {
    "id": "uDzS2q1X71T0"
   },
   "source": [
    "**Multiple Genre Options + Script Formatting + Customizable :**"
   ]
  },
  {
   "cell_type": "code",
   "execution_count": 65,
   "metadata": {
    "colab": {
     "base_uri": "https://localhost:8080/",
     "height": 671
    },
    "id": "YupRRJymE2L7",
    "outputId": "35f26dc0-5732-45b3-e1a7-c8582004fa62"
   },
   "outputs": [
    {
     "data": {
      "application/javascript": [
       "(async (port, path, width, height, cache, element) => {\n",
       "    if (!google.colab.kernel.accessAllowed && !cache) {\n",
       "      return;\n",
       "    }\n",
       "    element.appendChild(document.createTextNode(''));\n",
       "    const url = await google.colab.kernel.proxyPort(port, {cache});\n",
       "    const iframe = document.createElement('iframe');\n",
       "    iframe.src = new URL(path, url).toString();\n",
       "    iframe.height = height;\n",
       "    iframe.width = width;\n",
       "    iframe.style.border = 0;\n",
       "    iframe.allow = [\n",
       "        'accelerometer',\n",
       "        'autoplay',\n",
       "        'camera',\n",
       "        'clipboard-read',\n",
       "        'clipboard-write',\n",
       "        'gyroscope',\n",
       "        'magnetometer',\n",
       "        'microphone',\n",
       "        'serial',\n",
       "        'usb',\n",
       "        'xr-spatial-tracking',\n",
       "    ].join('; ');\n",
       "    element.appendChild(iframe);\n",
       "  })(8050, \"/\", \"100%\", 650, false, window.element)"
      ],
      "text/plain": [
       "<IPython.core.display.Javascript object>"
      ]
     },
     "metadata": {},
     "output_type": "display_data"
    }
   ],
   "source": [
    "import dash\n",
    "from dash import dcc, html\n",
    "from dash.dependencies import Input, Output\n",
    "import random\n",
    "\n",
    "# Sample layout for the Dash app\n",
    "app = dash.Dash(__name__)\n",
    "\n",
    "# Function to generate the script with word count matching\n",
    "def generate_script(genre, tone, characters, length, prompt, continue_scene=\"\"):\n",
    "    structured_prompt = (\n",
    "        f\"Genre: {genre}\\n\"\n",
    "        f\"Tone: {tone}\\n\"\n",
    "        f\"Characters: {characters}\\n\\n\"\n",
    "    )\n",
    "\n",
    "    if continue_scene:\n",
    "        structured_prompt += f\"Previous Scene:\\n{continue_scene}\\n\\nContinue the story:\\n\"\n",
    "\n",
    "    # Placeholder story structure\n",
    "    base_script = (\n",
    "        f\"🎬 Generated {genre} Script:\\n\\n\"\n",
    "        f\"Genre: {genre}\\n\"\n",
    "        f\"Tone: {tone}\\n\"\n",
    "        f\"Characters: {characters}\\n\\n\"\n",
    "        f\"Length: {length} words\\n\\n\"\n",
    "        f\"Story Prompt: {prompt}\\n\\n\"\n",
    "        f\"------------------------------------\\n\"\n",
    "        f\"Scene begins...\\n\\n\"\n",
    "        f\"{characters} is a {genre} character caught in a {tone} situation.\\n\\n\"\n",
    "        f\"With the stakes high, {characters} must {prompt} to survive the danger...\\n\\n\"\n",
    "        f\"(Continue the scene...)\\n\\n\"\n",
    "        f\"------------------------------------\\n\"\n",
    "        f\"(This is a placeholder for your generated content. In a real setup, this would be the AI-generated text.)\"\n",
    "    )\n",
    "\n",
    "    # Helper function to count words\n",
    "    def count_words(text):\n",
    "        return len(text.split())\n",
    "\n",
    "    # Generate content\n",
    "    generated_content = base_script\n",
    "    words_count = count_words(generated_content)\n",
    "\n",
    "    # Simulate generating the story (you can replace this with AI generation logic later)\n",
    "    while words_count < length:\n",
    "        # Adding more content based on the characters and plot\n",
    "        generated_content += f\"\\n{characters} faces a new challenge. The danger intensifies as {characters} must make crucial decisions.\\n\"\n",
    "        words_count = count_words(generated_content)\n",
    "\n",
    "        # Prevent infinite loops\n",
    "        if words_count >= length:\n",
    "            break\n",
    "\n",
    "    # If generated content exceeds length, trim it\n",
    "    if words_count > length:\n",
    "        words = generated_content.split()\n",
    "        generated_content = \" \".join(words[:length])  # Trim excess words\n",
    "\n",
    "    return generated_content\n",
    "\n",
    "\n",
    "# Layout of the app\n",
    "app.layout = html.Div([\n",
    "    html.H1(\"Movie Script Generator\"),\n",
    "\n",
    "    # Genre dropdown\n",
    "    dcc.Dropdown(\n",
    "        id='genre-dropdown',\n",
    "        options=[\n",
    "            {'label': 'Horror', 'value': 'Horror'},\n",
    "            {'label': 'Romance', 'value': 'Romance'},\n",
    "            {'label': 'Action', 'value': 'Action'},\n",
    "            {'label': 'Sci-Fi', 'value': 'Sci-Fi'},\n",
    "            {'label': 'Comedy', 'value': 'Comedy'}\n",
    "        ],\n",
    "        value='Horror',\n",
    "        style={'width': '50%', 'margin': 'auto'}\n",
    "    ),\n",
    "\n",
    "    # Tone dropdown\n",
    "    dcc.Dropdown(\n",
    "        id='tone-dropdown',\n",
    "        options=[\n",
    "            {'label': 'Suspenseful', 'value': 'Suspenseful'},\n",
    "            {'label': 'Funny', 'value': 'Funny'},\n",
    "            {'label': 'Romantic', 'value': 'Romantic'},\n",
    "            {'label': 'Dark', 'value': 'Dark'},\n",
    "            {'label': 'Light-hearted', 'value': 'Light-hearted'},\n",
    "            {'label': 'Epic', 'value': 'Epic'}\n",
    "        ],\n",
    "        value='Suspenseful',\n",
    "        style={'width': '50%', 'margin': 'auto'}\n",
    "    ),\n",
    "\n",
    "    # Characters input\n",
    "    dcc.Input(id='characters-input', type='text', placeholder=\"e.g., John (hero), Mira (detective)\", style={'width': '50%', 'margin': 'auto'}),\n",
    "\n",
    "    # Length slider\n",
    "    dcc.Slider(\n",
    "        id='length-slider',\n",
    "        min=100,\n",
    "        max=1000,\n",
    "        step=50,\n",
    "        value=300,\n",
    "        marks={i: str(i) for i in range(100, 1001, 50)},\n",
    "        className='slider',\n",
    "    ),\n",
    "\n",
    "    # Prompt input\n",
    "    dcc.Textarea(\n",
    "        id='prompt-input',\n",
    "        placeholder='Type your movie scene prompt here...',\n",
    "        style={'width': '50%', 'height': '150px', 'margin': 'auto'}\n",
    "    ),\n",
    "\n",
    "    # Continue scene input (optional)\n",
    "    dcc.Textarea(\n",
    "        id='continue-input',\n",
    "        placeholder='Paste the last scene here if you want to continue it (optional)...',\n",
    "        style={'width': '50%', 'height': '100px', 'margin': 'auto'}\n",
    "    ),\n",
    "\n",
    "    # Button to generate the script\n",
    "    html.Button('Generate Script 🎬', id='generate-button', n_clicks=0, style={'display': 'block', 'margin': 'auto'}),\n",
    "\n",
    "    # Output area for generated script\n",
    "    html.Div([\n",
    "        dcc.Loading(\n",
    "            id=\"loading\",\n",
    "            type=\"circle\",\n",
    "            children=[\n",
    "                html.Div(id='output-script', style={'white-space': 'pre-wrap', 'padding': '10px', 'background': '#f0f0f0', 'margin-top': '20px'})\n",
    "            ])]),\n",
    "])\n",
    "\n",
    "\n",
    "# Callback for generating script\n",
    "@app.callback(\n",
    "    Output('output-script', 'children'),\n",
    "    [Input('generate-button', 'n_clicks')],\n",
    "    [\n",
    "        dash.dependencies.State('genre-dropdown', 'value'),\n",
    "        dash.dependencies.State('tone-dropdown', 'value'),\n",
    "        dash.dependencies.State('characters-input', 'value'),\n",
    "        dash.dependencies.State('length-slider', 'value'),\n",
    "        dash.dependencies.State('prompt-input', 'value'),\n",
    "        dash.dependencies.State('continue-input', 'value')\n",
    "    ]\n",
    ")\n",
    "def generate_script_callback(n_clicks, genre, tone, characters, length, prompt, continue_scene):\n",
    "    if n_clicks > 0 and prompt:\n",
    "        script = generate_script(genre, tone, characters, length, prompt, continue_scene)\n",
    "        return script\n",
    "    return \"Enter a prompt and click 'Generate Script 🎬'\"\n",
    "\n",
    "if __name__ == '__main__':\n",
    "    app.run(debug=True)\n"
   ]
  }
 ],
 "metadata": {
  "colab": {
   "provenance": []
  },
  "kernelspec": {
   "display_name": "Python 3",
   "name": "python3"
  },
  "language_info": {
   "name": "python"
  },
  "widgets": {
   "application/vnd.jupyter.widget-state+json": {
    "19656725dac24ba3bbe8c553d3be8625": {
     "model_module": "@jupyter-widgets/controls",
     "model_module_version": "1.5.0",
     "model_name": "HTMLModel",
     "state": {
      "_dom_classes": [],
      "_model_module": "@jupyter-widgets/controls",
      "_model_module_version": "1.5.0",
      "_model_name": "HTMLModel",
      "_view_count": null,
      "_view_module": "@jupyter-widgets/controls",
      "_view_module_version": "1.5.0",
      "_view_name": "HTMLView",
      "description": "",
      "description_tooltip": null,
      "layout": "IPY_MODEL_e3ea0b48e75b4160978a42fc75a7ff48",
      "placeholder": "​",
      "style": "IPY_MODEL_4ad0e48e434f4722a036a5843eac0f27",
      "value": "model.safetensors: 100%"
     }
    },
    "1dd44c7c46bd4992ad423e4eb45c354d": {
     "model_module": "@jupyter-widgets/base",
     "model_module_version": "1.2.0",
     "model_name": "LayoutModel",
     "state": {
      "_model_module": "@jupyter-widgets/base",
      "_model_module_version": "1.2.0",
      "_model_name": "LayoutModel",
      "_view_count": null,
      "_view_module": "@jupyter-widgets/base",
      "_view_module_version": "1.2.0",
      "_view_name": "LayoutView",
      "align_content": null,
      "align_items": null,
      "align_self": null,
      "border": null,
      "bottom": null,
      "display": null,
      "flex": null,
      "flex_flow": null,
      "grid_area": null,
      "grid_auto_columns": null,
      "grid_auto_flow": null,
      "grid_auto_rows": null,
      "grid_column": null,
      "grid_gap": null,
      "grid_row": null,
      "grid_template_areas": null,
      "grid_template_columns": null,
      "grid_template_rows": null,
      "height": null,
      "justify_content": null,
      "justify_items": null,
      "left": null,
      "margin": null,
      "max_height": null,
      "max_width": null,
      "min_height": null,
      "min_width": null,
      "object_fit": null,
      "object_position": null,
      "order": null,
      "overflow": null,
      "overflow_x": null,
      "overflow_y": null,
      "padding": null,
      "right": null,
      "top": null,
      "visibility": null,
      "width": null
     }
    },
    "35b104ba23c344ef896d5f5e2f623c3b": {
     "model_module": "@jupyter-widgets/controls",
     "model_module_version": "1.5.0",
     "model_name": "ProgressStyleModel",
     "state": {
      "_model_module": "@jupyter-widgets/controls",
      "_model_module_version": "1.5.0",
      "_model_name": "ProgressStyleModel",
      "_view_count": null,
      "_view_module": "@jupyter-widgets/base",
      "_view_module_version": "1.2.0",
      "_view_name": "StyleView",
      "bar_color": null,
      "description_width": ""
     }
    },
    "46954930c11c4d6c8f999e00b67be015": {
     "model_module": "@jupyter-widgets/controls",
     "model_module_version": "1.5.0",
     "model_name": "HBoxModel",
     "state": {
      "_dom_classes": [],
      "_model_module": "@jupyter-widgets/controls",
      "_model_module_version": "1.5.0",
      "_model_name": "HBoxModel",
      "_view_count": null,
      "_view_module": "@jupyter-widgets/controls",
      "_view_module_version": "1.5.0",
      "_view_name": "HBoxView",
      "box_style": "",
      "children": [
       "IPY_MODEL_19656725dac24ba3bbe8c553d3be8625",
       "IPY_MODEL_7909e6ddeed44cdfb0293bcf695e834a",
       "IPY_MODEL_a2fc5a8cf05d456bb4ea662d1a568adf"
      ],
      "layout": "IPY_MODEL_1dd44c7c46bd4992ad423e4eb45c354d"
     }
    },
    "4ad0e48e434f4722a036a5843eac0f27": {
     "model_module": "@jupyter-widgets/controls",
     "model_module_version": "1.5.0",
     "model_name": "DescriptionStyleModel",
     "state": {
      "_model_module": "@jupyter-widgets/controls",
      "_model_module_version": "1.5.0",
      "_model_name": "DescriptionStyleModel",
      "_view_count": null,
      "_view_module": "@jupyter-widgets/base",
      "_view_module_version": "1.2.0",
      "_view_name": "StyleView",
      "description_width": ""
     }
    },
    "7909e6ddeed44cdfb0293bcf695e834a": {
     "model_module": "@jupyter-widgets/controls",
     "model_module_version": "1.5.0",
     "model_name": "FloatProgressModel",
     "state": {
      "_dom_classes": [],
      "_model_module": "@jupyter-widgets/controls",
      "_model_module_version": "1.5.0",
      "_model_name": "FloatProgressModel",
      "_view_count": null,
      "_view_module": "@jupyter-widgets/controls",
      "_view_module_version": "1.5.0",
      "_view_name": "ProgressView",
      "bar_style": "success",
      "description": "",
      "description_tooltip": null,
      "layout": "IPY_MODEL_7a80aae5b423471bb47df0d44660d710",
      "max": 1519984962,
      "min": 0,
      "orientation": "horizontal",
      "style": "IPY_MODEL_35b104ba23c344ef896d5f5e2f623c3b",
      "value": 1519984962
     }
    },
    "7a80aae5b423471bb47df0d44660d710": {
     "model_module": "@jupyter-widgets/base",
     "model_module_version": "1.2.0",
     "model_name": "LayoutModel",
     "state": {
      "_model_module": "@jupyter-widgets/base",
      "_model_module_version": "1.2.0",
      "_model_name": "LayoutModel",
      "_view_count": null,
      "_view_module": "@jupyter-widgets/base",
      "_view_module_version": "1.2.0",
      "_view_name": "LayoutView",
      "align_content": null,
      "align_items": null,
      "align_self": null,
      "border": null,
      "bottom": null,
      "display": null,
      "flex": null,
      "flex_flow": null,
      "grid_area": null,
      "grid_auto_columns": null,
      "grid_auto_flow": null,
      "grid_auto_rows": null,
      "grid_column": null,
      "grid_gap": null,
      "grid_row": null,
      "grid_template_areas": null,
      "grid_template_columns": null,
      "grid_template_rows": null,
      "height": null,
      "justify_content": null,
      "justify_items": null,
      "left": null,
      "margin": null,
      "max_height": null,
      "max_width": null,
      "min_height": null,
      "min_width": null,
      "object_fit": null,
      "object_position": null,
      "order": null,
      "overflow": null,
      "overflow_x": null,
      "overflow_y": null,
      "padding": null,
      "right": null,
      "top": null,
      "visibility": null,
      "width": null
     }
    },
    "8279105a21214755a459340acd00d89a": {
     "model_module": "@jupyter-widgets/controls",
     "model_module_version": "1.5.0",
     "model_name": "DescriptionStyleModel",
     "state": {
      "_model_module": "@jupyter-widgets/controls",
      "_model_module_version": "1.5.0",
      "_model_name": "DescriptionStyleModel",
      "_view_count": null,
      "_view_module": "@jupyter-widgets/base",
      "_view_module_version": "1.2.0",
      "_view_name": "StyleView",
      "description_width": ""
     }
    },
    "a2fc5a8cf05d456bb4ea662d1a568adf": {
     "model_module": "@jupyter-widgets/controls",
     "model_module_version": "1.5.0",
     "model_name": "HTMLModel",
     "state": {
      "_dom_classes": [],
      "_model_module": "@jupyter-widgets/controls",
      "_model_module_version": "1.5.0",
      "_model_name": "HTMLModel",
      "_view_count": null,
      "_view_module": "@jupyter-widgets/controls",
      "_view_module_version": "1.5.0",
      "_view_name": "HTMLView",
      "description": "",
      "description_tooltip": null,
      "layout": "IPY_MODEL_c7ef487033cd46b599398b2fa160b27e",
      "placeholder": "​",
      "style": "IPY_MODEL_8279105a21214755a459340acd00d89a",
      "value": " 1.52G/1.52G [00:23&lt;00:00, 96.6MB/s]"
     }
    },
    "c7ef487033cd46b599398b2fa160b27e": {
     "model_module": "@jupyter-widgets/base",
     "model_module_version": "1.2.0",
     "model_name": "LayoutModel",
     "state": {
      "_model_module": "@jupyter-widgets/base",
      "_model_module_version": "1.2.0",
      "_model_name": "LayoutModel",
      "_view_count": null,
      "_view_module": "@jupyter-widgets/base",
      "_view_module_version": "1.2.0",
      "_view_name": "LayoutView",
      "align_content": null,
      "align_items": null,
      "align_self": null,
      "border": null,
      "bottom": null,
      "display": null,
      "flex": null,
      "flex_flow": null,
      "grid_area": null,
      "grid_auto_columns": null,
      "grid_auto_flow": null,
      "grid_auto_rows": null,
      "grid_column": null,
      "grid_gap": null,
      "grid_row": null,
      "grid_template_areas": null,
      "grid_template_columns": null,
      "grid_template_rows": null,
      "height": null,
      "justify_content": null,
      "justify_items": null,
      "left": null,
      "margin": null,
      "max_height": null,
      "max_width": null,
      "min_height": null,
      "min_width": null,
      "object_fit": null,
      "object_position": null,
      "order": null,
      "overflow": null,
      "overflow_x": null,
      "overflow_y": null,
      "padding": null,
      "right": null,
      "top": null,
      "visibility": null,
      "width": null
     }
    },
    "e3ea0b48e75b4160978a42fc75a7ff48": {
     "model_module": "@jupyter-widgets/base",
     "model_module_version": "1.2.0",
     "model_name": "LayoutModel",
     "state": {
      "_model_module": "@jupyter-widgets/base",
      "_model_module_version": "1.2.0",
      "_model_name": "LayoutModel",
      "_view_count": null,
      "_view_module": "@jupyter-widgets/base",
      "_view_module_version": "1.2.0",
      "_view_name": "LayoutView",
      "align_content": null,
      "align_items": null,
      "align_self": null,
      "border": null,
      "bottom": null,
      "display": null,
      "flex": null,
      "flex_flow": null,
      "grid_area": null,
      "grid_auto_columns": null,
      "grid_auto_flow": null,
      "grid_auto_rows": null,
      "grid_column": null,
      "grid_gap": null,
      "grid_row": null,
      "grid_template_areas": null,
      "grid_template_columns": null,
      "grid_template_rows": null,
      "height": null,
      "justify_content": null,
      "justify_items": null,
      "left": null,
      "margin": null,
      "max_height": null,
      "max_width": null,
      "min_height": null,
      "min_width": null,
      "object_fit": null,
      "object_position": null,
      "order": null,
      "overflow": null,
      "overflow_x": null,
      "overflow_y": null,
      "padding": null,
      "right": null,
      "top": null,
      "visibility": null,
      "width": null
     }
    },
    "state": {}
   },
   "state": {
    "state": {}
   }
  }
 },
 "nbformat": 4,
 "nbformat_minor": 0
}
